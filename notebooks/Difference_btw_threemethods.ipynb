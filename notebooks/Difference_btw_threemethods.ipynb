{
 "cells": [
  {
   "cell_type": "code",
   "execution_count": null,
   "metadata": {},
   "outputs": [],
   "source": [
    "import matplotlib.pyplot as plt\n",
    "import matplotlib.lines as mlines\n"
   ]
  },
  {
   "cell_type": "code",
   "execution_count": null,
   "metadata": {},
   "outputs": [],
   "source": [
    "# for TF 1x\n",
    "# x-axis values\n",
    "x = ['FOG', 'AU', 'SEN']\n",
    "# y-axis values\n",
    "yacc_cent = [91.09, 64.20, 90.98]\n",
    "\n",
    "yacc_before = [84.41, 62.26, 79.10]\n",
    "yacc_after = [85.53, 62.34, 79.46]\n",
    "\n",
    "ycom_cent = [900, 5300, 2400]\n",
    "ycom_before = [328.62, 998.32, 555.70]\n",
    "ycom_after = [366.61, 2083.60, 2620.02]\n",
    "fig, ax1 = plt.subplots()\n",
    "\n",
    "color = 'tab:red'\n",
    "ax1.set_xlabel('Datasets')\n",
    "\n",
    "ax1.set_ylabel('Accuracy', color=color)\n",
    "ax1.plot(x, yacc_cent, color=color, linestyle='dashed', linewidth = 3, marker='o', markerfacecolor=color, markersize=12)\n",
    "ax1.plot(x, yacc_before, color=color, linestyle='dashed', linewidth = 3, marker='*', markerfacecolor=color, markersize=12)\n",
    "ax1.plot(x, yacc_after, color=color, linestyle='dashed', linewidth = 3, marker='+', markerfacecolor=color, markersize=12)\n",
    "\n",
    "ax1.tick_params(axis='y', labelcolor=color)\n",
    "\n",
    "ax2 = ax1.twinx()  # instantiate a second axes that shares the same x-axis\n",
    "\n",
    "color = 'tab:blue'\n",
    "ax2.set_ylabel('Total Transmission', color=color)  # we already handled the x-label with ax1\n",
    "ax2.plot(x, ycom_cent, color=color, linestyle='dashed', linewidth = 3, marker='o', markerfacecolor=color, markersize=12)\n",
    "ax2.plot(x, ycom_before, color=color, linestyle='dashed', linewidth = 3, marker='*', markerfacecolor=color, markersize=12)\n",
    "ax2.plot(x, ycom_after, color=color, linestyle='dashed', linewidth = 3, marker='+', markerfacecolor=color, markersize=12)\n",
    "ax2.tick_params(axis='y', labelcolor=color)\n",
    "fig.tight_layout() # otherwise the right y-label is slightly clipped\n",
    "omark = mlines.Line2D([], [], color='black', marker='o', linestyle='None', markersize=10, label='Centralized', fillstyle = 'none')\n",
    "star = mlines.Line2D([], [], color='black', marker='*', linestyle='None', markersize=10, label='HDSM' , fillstyle = 'none')\n",
    "plus = mlines.Line2D([], [], color='black', marker='+', linestyle='None', markersize=10, label='MTDM' , fillstyle = 'none')\n",
    "\n",
    "plt.legend(handles=[omark, star, plus], bbox_to_anchor =(0.75, 1.15), ncol = 3)\n",
    "#plt.legend(bbox_to_anchor =(0.75, 1.15), ncol = 2)\n",
    "   \n",
    "#fig.savefig('workspace/difference.svg', format='svg', dpi=1200)\n",
    "# fig.legend([\"Before\", \"After\"], loc =\"lower right\")\n",
    "# ax2.legend([\"Before\", \"After\"], loc =\"lower right\")\n",
    "plt.show()\n",
    "#fig.savefig('workspace/difference.svg', dpi=1200, bbox_inches='tight')"
   ]
  },
  {
   "cell_type": "code",
   "execution_count": null,
   "metadata": {},
   "outputs": [],
   "source": []
  },
  {
   "cell_type": "code",
   "execution_count": null,
   "metadata": {},
   "outputs": [],
   "source": []
  }
 ],
 "metadata": {
  "kernelspec": {
   "display_name": "Python 3",
   "language": "python",
   "name": "python3"
  },
  "language_info": {
   "codemirror_mode": {
    "name": "ipython",
    "version": 3
   },
   "file_extension": ".py",
   "mimetype": "text/x-python",
   "name": "python",
   "nbconvert_exporter": "python",
   "pygments_lexer": "ipython3",
   "version": "3.6.6"
  },
  "toc": {
   "base_numbering": 1,
   "nav_menu": {},
   "number_sections": false,
   "sideBar": false,
   "skip_h1_title": false,
   "title_cell": "Table of Contents",
   "title_sidebar": "Contents",
   "toc_cell": false,
   "toc_position": {},
   "toc_section_display": false,
   "toc_window_display": false
  }
 },
 "nbformat": 4,
 "nbformat_minor": 2
}
