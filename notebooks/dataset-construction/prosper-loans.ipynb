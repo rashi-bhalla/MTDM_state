{
 "cells": [
  {
   "cell_type": "code",
   "execution_count": null,
   "metadata": {},
   "outputs": [],
   "source": [
    "import os\n",
    "import pandas as pd\n",
    "import numpy as np\n",
    "from pathlib import Path\n",
    "import re\n"
   ]
  },
  {
   "cell_type": "code",
   "execution_count": null,
   "metadata": {},
   "outputs": [],
   "source": [
    "dataset_dir = '../datasets/prosper-loans'\n",
    "\n",
    "if not os.path.exists(dataset_dir):\n",
    "    os.makedirs(dataset_dir)\n"
   ]
  },
  {
   "cell_type": "code",
   "execution_count": null,
   "metadata": {},
   "outputs": [],
   "source": [
    "%%bash\n",
    "cd ../datasets/prosper-loans\n",
    "wget https://s3.amazonaws.com/udacity-hosted-downloads/ud651/prosperLoanData.csv\n"
   ]
  },
  {
   "cell_type": "code",
   "execution_count": null,
   "metadata": {},
   "outputs": [],
   "source": [
    "df = pd.read_csv(os.path.join(dataset_dir, 'prosperLoanData.csv'))"
   ]
  },
  {
   "cell_type": "code",
   "execution_count": null,
   "metadata": {},
   "outputs": [],
   "source": [
    "features = [\n",
    "    'BorrowerAPR', 'BorrowerRate',\n",
    "    'EstimatedEffectiveYield', 'EstimatedReturn',\n",
    "    'ProsperScore', 'CreditScoreRangeUpper',\n",
    "    'OpenCreditLines', 'AmountDelinquent',\n",
    "    'StatedMonthlyIncome', 'MonthlyLoanPayment',\n",
    "    'ClosedDate', 'LoanStatus',\n",
    "]\n",
    "df = df[features]\n"
   ]
  },
  {
   "cell_type": "code",
   "execution_count": null,
   "metadata": {},
   "outputs": [],
   "source": [
    "df = df.dropna(subset=['ProsperScore'])\n",
    "df = df[df['LoanStatus'].isin(['Completed', 'Defaulted', 'Chargedoff'])]\n",
    "df['LoanStatus'] = df['LoanStatus'] == 'Completed'\n",
    "\n"
   ]
  },
  {
   "cell_type": "code",
   "execution_count": null,
   "metadata": {},
   "outputs": [],
   "source": [
    "g = df.groupby('LoanStatus')\n",
    "df = g.apply(lambda x: x.sample(g.size().min(), random_state=1)).reset_index(drop=True)\n"
   ]
  },
  {
   "cell_type": "code",
   "execution_count": null,
   "metadata": {},
   "outputs": [],
   "source": [
    "df['ClosedDate'] = pd.to_datetime(df['ClosedDate'])\n",
    "df = df.sort_values(by='ClosedDate')\n",
    "del df['ClosedDate']\n"
   ]
  },
  {
   "cell_type": "code",
   "execution_count": null,
   "metadata": {},
   "outputs": [],
   "source": [
    "df = df[[c for c in df if c not in ['LoanStatus']] + ['LoanStatus']]"
   ]
  },
  {
   "cell_type": "code",
   "execution_count": null,
   "metadata": {},
   "outputs": [],
   "source": [
    "df.to_csv(os.path.join(dataset_dir, 'prosper-loans.csv'), index=False)"
   ]
  },
  {
   "cell_type": "code",
   "execution_count": null,
   "metadata": {},
   "outputs": [],
   "source": [
    "#row_count = df.shape[0]\n",
    "#resampled_df = df.sample(frac=2, replace=True, random_state=row_count)\n",
    "twice_df = pd.concat([df] * 2)"
   ]
  },
  {
   "cell_type": "code",
   "execution_count": null,
   "metadata": {},
   "outputs": [],
   "source": [
    "row_count = twice_df.shape[0]\n",
    "shuffled_df = twice_df.sample(frac=1, replace=False, random_state=row_count)\n",
    "shuffled_df.to_csv(os.path.join(dataset_dir, 'prosper-loans-shuffled.csv'), index=False)"
   ]
  },
  {
   "cell_type": "code",
   "execution_count": null,
   "metadata": {},
   "outputs": [],
   "source": []
  }
 ],
 "metadata": {
  "kernelspec": {
   "display_name": "Python 3",
   "language": "python",
   "name": "python3"
  },
  "language_info": {
   "codemirror_mode": {
    "name": "ipython",
    "version": 3
   },
   "file_extension": ".py",
   "mimetype": "text/x-python",
   "name": "python",
   "nbconvert_exporter": "python",
   "pygments_lexer": "ipython3",
   "version": "3.6.6"
  },
  "toc": {
   "base_numbering": 1,
   "nav_menu": {},
   "number_sections": false,
   "sideBar": false,
   "skip_h1_title": false,
   "title_cell": "Table of Contents",
   "title_sidebar": "Contents",
   "toc_cell": false,
   "toc_position": {},
   "toc_section_display": false,
   "toc_window_display": false
  }
 },
 "nbformat": 4,
 "nbformat_minor": 2
}
