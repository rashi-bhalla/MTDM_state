{
 "cells": [
  {
   "cell_type": "code",
   "execution_count": 1,
   "metadata": {},
   "outputs": [],
   "source": [
    "import pandas as pd\n",
    "import os"
   ]
  },
  {
   "cell_type": "code",
   "execution_count": 2,
   "metadata": {},
   "outputs": [],
   "source": [
    "dataset_dir = '../datasets/wall-following-robot'\n",
    "\n",
    "if not os.path.exists(dataset_dir):\n",
    "    os.makedirs(dataset_dir)"
   ]
  },
  {
   "cell_type": "code",
   "execution_count": 3,
   "metadata": {},
   "outputs": [],
   "source": [
    "col_names = [ 'sensor_{}'.format(i) for i in range(24) ] + [ 'class' ]\n",
    "# Read CSV as dtype=str so that numeric values are not changed through conversion to a float type \n",
    "df = pd.read_csv('https://archive.ics.uci.edu/ml/machine-learning-databases/00194/sensor_readings_24.data', dtype=str, header=None, names=col_names)"
   ]
  },
  {
   "cell_type": "code",
   "execution_count": 4,
   "metadata": {},
   "outputs": [],
   "source": [
    "row_count = df.shape[0]\n",
    "resampled_df = df.sample(frac=2, replace=True, random_state=row_count)"
   ]
  },
  {
   "cell_type": "code",
   "execution_count": 5,
   "metadata": {},
   "outputs": [],
   "source": [
    "twice_df = pd.concat([df] * 2)"
   ]
  },
  {
   "cell_type": "code",
   "execution_count": 6,
   "metadata": {},
   "outputs": [
    {
     "name": "stdout",
     "output_type": "stream",
     "text": [
      "=== Class Counts ===\n",
      "--- Original ---\n",
      "Move-Forward         2205\n",
      "Sharp-Right-Turn     2097\n",
      "Slight-Right-Turn     826\n",
      "Slight-Left-Turn      328\n",
      "Name: class, dtype: int64\n",
      "--- Repeated (twice) ---\n",
      "Move-Forward         4410\n",
      "Sharp-Right-Turn     4194\n",
      "Slight-Right-Turn    1652\n",
      "Slight-Left-Turn      656\n",
      "Name: class, dtype: int64\n",
      "--- Resampled (double) ---\n",
      "Move-Forward         4420\n",
      "Sharp-Right-Turn     4154\n",
      "Slight-Right-Turn    1646\n",
      "Slight-Left-Turn      692\n",
      "Name: class, dtype: int64\n"
     ]
    }
   ],
   "source": [
    "print('=== Class Counts ===')\n",
    "print('--- Original ---')\n",
    "print(df['class'].value_counts())\n",
    "print('--- Repeated (twice) ---')\n",
    "print(twice_df['class'].value_counts())\n",
    "print('--- Resampled (double) ---')\n",
    "print(resampled_df['class'].value_counts())"
   ]
  },
  {
   "cell_type": "code",
   "execution_count": 7,
   "metadata": {},
   "outputs": [],
   "source": [
    "twice_df.to_csv(os.path.join(dataset_dir, 'wall-following-robot-twice.csv'), index=False)\n",
    "resampled_df.to_csv(os.path.join(dataset_dir, 'wall-following-robot-resampled.csv'), index=False)"
   ]
  },
  {
   "cell_type": "code",
   "execution_count": null,
   "metadata": {},
   "outputs": [],
   "source": []
  }
 ],
 "metadata": {
  "kernelspec": {
   "display_name": "Python 3",
   "language": "python",
   "name": "python3"
  },
  "language_info": {
   "codemirror_mode": {
    "name": "ipython",
    "version": 3
   },
   "file_extension": ".py",
   "mimetype": "text/x-python",
   "name": "python",
   "nbconvert_exporter": "python",
   "pygments_lexer": "ipython3",
   "version": "3.6.6"
  },
  "toc": {
   "base_numbering": 1,
   "nav_menu": {},
   "number_sections": false,
   "sideBar": false,
   "skip_h1_title": false,
   "title_cell": "Table of Contents",
   "title_sidebar": "Contents",
   "toc_cell": false,
   "toc_position": {},
   "toc_section_display": false,
   "toc_window_display": false
  }
 },
 "nbformat": 4,
 "nbformat_minor": 2
}
