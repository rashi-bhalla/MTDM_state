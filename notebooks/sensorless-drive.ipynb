{
 "cells": [
  {
   "cell_type": "code",
   "execution_count": 1,
   "metadata": {},
   "outputs": [
    {
     "name": "stdout",
     "output_type": "stream",
     "text": [
      "Compiling mtdm.classifier.base\n",
      "Compiling mtdm.classifier.distributed.aggregation\n",
      "Compiling mtdm.classifier.distributed.base\n",
      "Compiling mtdm.classifier.distributed.distributed\n",
      "Compiling mtdm.classifier.distributed.dynamic-distributed\n",
      "Compiling mtdm.classifier.distributed.dynamic-monitors\n",
      "Compiling mtdm.classifier.distributed.sites\n",
      "Compiling mtdm.classifier.moa-classifier\n",
      "Compiling mtdm.classifier.random\n",
      "Compiling mtdm.core\n",
      "Compiling mtdm.dataset.base\n",
      "Compiling mtdm.dataset.csv-dataset\n",
      "Compiling mtdm.dataset.moa\n",
      "Compiling mtdm.dataset.probabilistic\n",
      "Compiling mtdm.dataset.save-csv\n",
      "Compiling mtdm.dataset.tree-based\n",
      "Compiling mtdm.evaluation.timing\n",
      "Compiling mtdm.evaluation\n",
      "Compiling mtdm.fourier.base\n",
      "Compiling mtdm.fourier.trouble\n",
      "Compiling mtdm.monitor.accuracy\n",
      "Compiling mtdm.monitor.agreement\n",
      "Compiling mtdm.monitor.base\n",
      "Compiling mtdm.monitor.drift\n",
      "Compiling mtdm.monitor.threshold\n",
      "Compiling mtdm.monitor.window\n",
      "Compiling mtdm.training\n",
      "Compiling mtdm.trees.base\n",
      "Compiling mtdm.trees.graph-tree\n",
      "Compiling mtdm.trees.parse-model\n",
      "Compiling mtdm.utils.complex-numbers\n",
      "Compiling mtdm.utils.moving-average\n",
      "Compiling mtdm.utils.random\n",
      "Compiling mtdm.utils.stats\n",
      "Compiling mtdm.utils.timing\n",
      "Compiling mtdm.utils\n",
      "Created /home/beakerx/mtdm/target/jvm/uberjar/mtdm-0.1.0-SNAPSHOT.jar\n",
      "Created /home/beakerx/mtdm/target/jvm/uberjar/mtdm-0.1.0-SNAPSHOT-standalone.jar\n",
      "\n"
     ]
    }
   ],
   "source": [
    "%%bash\n",
    "lein uberjar"
   ]
  },
  {
   "cell_type": "code",
   "execution_count": 2,
   "metadata": {},
   "outputs": [
    {
     "data": {
      "application/vnd.jupyter.widget-view+json": {
       "model_id": "65364504-bfb0-4ca6-9b7e-59bbda7bda7e",
       "version_major": 2,
       "version_minor": 0
      },
      "method": "display_data"
     },
     "metadata": {},
     "output_type": "display_data"
    },
    {
     "data": {
      "text/plain": [
       "null"
      ]
     },
     "execution_count": 2,
     "metadata": {},
     "output_type": "execute_result"
    }
   ],
   "source": [
    "%classpath add jar ../target/jvm/uberjar/mtdm-0.1.0-SNAPSHOT-standalone.jar\n",
    "(clojure.lang.Compiler/loadFile \"jupyter_helpers.clj\")\n",
    "(require '[clojure.java.io :as io]\n",
    "         '[clojure.string :as string]\n",
    "         '[clojure.pprint :refer [pprint print-table]]\n",
    "         '[jupyter-helpers :refer [run-and-save-experiments load-experiment site-summary-table experiment-timeline experiments-summary-table\n",
    "                                   display-html confusion-summary display-experiment-models get-best-experiment-label load-experiment-pair\n",
    "                                   get-timing-evaluation timing-table get-experiment-block-accuracies experiment-block-accuracies-table\n",
    "                                   save-data load-data]]\n",
    "         '[mtdm.evaluation :refer [get-order-summary]]\n",
    "         '[mtdm.classifier.distributed.sites :refer [make-site-structure p-site t-site]]\n",
    "         '[mtdm.classifier.moa-classifier :refer [adaptive-random-forest naive-bayes]]\n",
    "         '[mtdm.dataset.csv-dataset :refer [read-csv-dataset]]\n",
    "         '[mtdm.utils.stats :refer [mann-whitney-u-test wilcoxon-signed-rank-test]])"
   ]
  },
  {
   "cell_type": "markdown",
   "metadata": {},
   "source": [
    "## Experiment Setup"
   ]
  },
  {
   "cell_type": "code",
   "execution_count": 3,
   "metadata": {},
   "outputs": [
    {
     "data": {
      "text/plain": [
       "#'beaker_clojure_shell_eaf5d33d-f855-4143-8777-6f984177b053/dataset-fn1"
      ]
     },
     "execution_count": 3,
     "metadata": {},
     "output_type": "execute_result"
    }
   ],
   "source": [
    ";; Dataset Configuration\n",
    "\n",
    "(defn dataset-fn []\n",
    "    (read-csv-dataset \"datasets/sensorless-drive/sensorless-drive-interleaved.csv\"\n",
    "                      999999 ;; All records\n",
    "                      ;; Numeric features (feature_0-feature_47)\n",
    "                      (into [] (map #(str \"feature_\" %) (range 48)))))\n",
    "\n",
    "(defn dataset-fn1 []\n",
    "    (read-csv-dataset \"datasets/sensorless-drive/sensorless-drive-interleaved.csv\"\n",
    "                      50000 ;; All records\n",
    "                      ;; Numeric features (feature_0-feature_47)\n",
    "                      (into [] (map #(str \"feature_\" %) (range 48)))))\n",
    "\n",
    "(def dataset-name \"sensorless-drive\")\n",
    "\n",
    "(def feature-count 48) ;; Not including class\n",
    "(def features-per-site 2)\n",
    "\n",
    "(def trouble-factors (map #(* features-per-site %) [1 1.5 2]))\n",
    "(def p-sites\n",
    "  [\n",
    "(p-site :set1 [0 24])\n",
    "(p-site :set2 [1 25])\n",
    "(p-site :set3 [2 26])\n",
    "(p-site :set4 [3 27])\n",
    "(p-site :set5 [4 28])\n",
    "(p-site :set6 [5 29])\n",
    "(p-site :set7 [6 30])\n",
    "(p-site :set8 [7 31])\n",
    "(p-site :set9 [8 32])\n",
    "(p-site :set10 [9 33])\n",
    "(p-site :set11 [10 34])\n",
    "(p-site :set12 [11 35])\n",
    "\n",
    "(p-site :set13 [12 36])\n",
    "(p-site :set14 [13 37])\n",
    "(p-site :set15 [14 38])\n",
    "(p-site :set16 [15 39])\n",
    "(p-site :set17 [16 40])\n",
    "(p-site :set18 [17 41])\n",
    "(p-site :set19 [18 42])\n",
    "(p-site :set20 [19 43])\n",
    "(p-site :set21 [20 44])\n",
    "(p-site :set22 [21 45])\n",
    "(p-site :set23 [22 46])\n",
    "(p-site :set24 [23 47])\n",
    "\n",
    "])\n",
    "\n",
    "(def dataset (dataset-fn))\n",
    "(defn dataset-fn [] dataset)\n",
    "\n",
    "(def dataset1 (dataset-fn1))\n",
    "(defn dataset-fn1 [] dataset1)"
   ]
  },
  {
   "cell_type": "code",
   "execution_count": 4,
   "metadata": {},
   "outputs": [
    {
     "data": {
      "text/plain": [
       "#'beaker_clojure_shell_eaf5d33d-f855-4143-8777-6f984177b053/output-dir"
      ]
     },
     "execution_count": 4,
     "metadata": {},
     "output_type": "execute_result"
    }
   ],
   "source": [
    ";; Experiment Configuration\n",
    "\n",
    "(def base-classifier naive-bayes)\n",
    "(def trouble-classifier adaptive-random-forest)\n",
    "\n",
    "(def base-setup\n",
    "    {:dataset-description (keyword dataset-name)\n",
    "     :dataset-fn dataset-fn\n",
    "     :dataset-fn1 dataset-fn1\n",
    "     :trouble-classifier trouble-classifier\n",
    "     :base-site-structure (apply make-site-structure feature-count p-sites)\n",
    "     ;; Disable monitor logging because this is a long-running experiment\n",
    "     ;; where detailed logging data is excessively large.\n",
    "     :disable-monitor-logging true\n",
    "     :grace-period 5\n",
    "     :split-confidence 0.0001\n",
    "     :selection-records 0\n",
    "     :min-records 50000\n",
    "     })\n",
    "\n",
    "(def aggregation-rules {:max-conf {:type :max-conf}\n",
    "                        :simple-voting {:type :simple-voting}\n",
    "                        :stacked {:type :two-level-stacked\n",
    "                        :classifier-generator trouble-classifier}\n",
    "    })\n",
    "\n",
    "(def base-system-config\n",
    "    {:site-window-size 1000\n",
    "     :site-training-time 0\n",
    "     :shared-sources? false\n",
    "     :creation-window-size 1000\n",
    "     :creation-time-threshold 500\n",
    "     :removal-window-size 1000\n",
    "     :removal-time-threshold 500\n",
    "     :creation-agreement-threshold {:type :smoothed-hoeffding-bound\n",
    "                                    :r 1 :delta 0.001 :sharpness 5}\n",
    "     :removal-accuracy-threshold {:type :hoeffding-bound\n",
    "                                  :r 1 :delta 0.001}\n",
    "     :removal-usage-threshold 0.05})\n",
    "\n",
    "\n",
    "(def mtdm-experiments\n",
    "    (for [trouble-factor trouble-factors\n",
    "          [aggregation-rule-key aggregation-rule] aggregation-rules]\n",
    "        (assoc base-setup\n",
    "            :label (keyword (str dataset-name \"-mtdm\"\n",
    "                                 aggregation-rule-key\n",
    "                                 \"-tf\" trouble-factor))\n",
    "            :p-site-aggregation-rule aggregation-rule\n",
    "            :system-config (assoc base-system-config\n",
    "                               :trouble-factor trouble-factor))))\n",
    "\n",
    "(def experiments mtdm-experiments)\n",
    "\n",
    "(def output-dir (str \"workspace/\" dataset-name))"
   ]
  },
  {
   "cell_type": "markdown",
   "metadata": {},
   "source": [
    "## Run Experiments"
   ]
  },
  {
   "cell_type": "code",
   "execution_count": 5,
   "metadata": {
    "scrolled": true
   },
   "outputs": [
    {
     "data": {
      "application/vnd.jupyter.widget-view+json": {
       "model_id": "2c001b14-0ec8-435f-891b-96f18d56f78a",
       "version_major": 2,
       "version_minor": 0
      },
      "method": "display_data"
     },
     "metadata": {},
     "output_type": "display_data"
    }
   ],
   "source": [
    "(import '[com.twosigma.beakerx.widget Output])\n",
    "(def experiment-output (Output.))\n",
    "experiment-output"
   ]
  },
  {
   "cell_type": "code",
   "execution_count": 6,
   "metadata": {},
   "outputs": [
    {
     "data": {
      "application/vnd.jupyter.widget-view+json": {
       "model_id": "",
       "version_major": 2,
       "version_minor": 0
      },
      "method": "display_data"
     },
     "metadata": {},
     "output_type": "display_data"
    },
    {
     "name": "stdout",
     "output_type": "stream",
     "text": [
      "time-tree 0.872\n",
      "time-parse 0.1294\n",
      "time-tsite 13118.995899999998\n",
      "time-tree 0.4452\n",
      "time-parse 0.1107\n",
      "time-tsite 14426.564199999966\n",
      "time-tree 0.3394\n",
      "time-parse 0.0574\n",
      "time-tsite 13692.06039999999\n"
     ]
    },
    {
     "data": {
      "text/plain": [
       "[{:full {:mean-max-transmission-100 10670024776931001029/215029451467965086568, :full-comm 46453/1773, :proportion-transmitted 389155/351054, :accuracy 236/297, :time-cal 1240979564061, :mean-critical-path-time 9514886704/58509, :total-communication 46453/1773, :time-update-agree 178331.578199999, :time-tsite 13118.995899999998, :f-score {:unweighted-mean 0.7971351471814242, :weighted-mean 0.7971351471814242, :micro 0.79461277}, :time-wall-pairs 9266300, :prim-comm 400000/19503, :time-func 1.3172, :time-cpu-pairs 8871335, :total-pairs 193}, :label :sensorless-drive-mtdm:max-conf-tf2, :skip-1000 {:mean-max-transmission-100 10670024776931001029/211354299756810134568, :full-comm 1532949/57509, :proportion-transmitted 389155/345054, :accuracy 45531/57509, :time-cal 1240979564061, :mean-critical-path-time 9497848924/57509, :total-communication 1532949/57509, :time-update-agree 177880.981599999, :time-tsite nil, :f-score {:unweighted-mean 0.7942811250686646, :weighted-mean 0.7943046868120026, :micro 0.79171956}, :time-wall-pairs 9266300, :prim-comm 1200000/57509, :time-func 1.3172, :time-cpu-pairs 8871335, :total-pairs 193}}, {:full {:mean-max-transmission-100 306305933084651458429/4508778569755737461184, :full-comm 1669124/58509, :proportion-transmitted 283925/234036, :accuracy 4634/5319, :time-cal 615804556251, :mean-critical-path-time 12101490644/58509, :total-communication 1669124/58509, :time-update-agree 124329.76060000063, :time-tsite 14426.564199999966, :f-score {:unweighted-mean 0.8729481426152316, :weighted-mean 0.8729481426152316, :micro 0.8712164}, :time-wall-pairs 573900, :prim-comm 400000/19503, :time-func 0.3643, :time-cpu-pairs 608549, :total-pairs 193}, :label :sensorless-drive-mtdm:max-conf-tf3.0, :skip-1000 {:mean-max-transmission-100 306305933084651458429/4431717287393096885184, :full-comm 1669124/57509, :proportion-transmitted 283925/230036, :accuracy 50013/57509, :time-cal 615804556251, :mean-critical-path-time 12084396673/57509, :total-communication 1669124/57509, :time-update-agree 123973.41340000067, :time-tsite nil, :f-score {:unweighted-mean 0.8713930736888539, :weighted-mean 0.8714417428357096, :micro 0.8696552}, :time-wall-pairs 573900, :prim-comm 1200000/57509, :time-func 0.3643, :time-cpu-pairs 608549, :total-pairs 193}}, {:full {:mean-max-transmission-100 100993175/1266602832, :full-comm 1641535/58509, :proportion-transmitted 25157/21276, :accuracy 55213/58509, :time-cal 573043281074, :mean-critical-path-time 11967564214/58509, :total-communication 1641535/58509, :time-update-agree 76503.48669999884, :time-tsite 13692.06039999999, :f-score {:unweighted-mean 0.9444032148881392, :weighted-mean 0.9444032148881392, :micro 0.9436668}, :time-wall-pairs 429300, :prim-comm 400000/19503, :time-func 0.404, :time-cpu-pairs 454755, :total-pairs 193}, :label :sensorless-drive-mtdm:max-conf-tf4, :skip-1000 {:mean-max-transmission-100 100993175/1244954832, :full-comm 1641535/57509, :proportion-transmitted 276727/230036, :accuracy 54252/57509, :time-cal 573043281074, :mean-critical-path-time 11951289048/57509, :total-communication 1641535/57509, :time-update-agree 76137.8428999989, :time-tsite nil, :f-score {:unweighted-mean 0.9441011602228339, :weighted-mean 0.9441296745379743, :micro 0.9433654}, :time-wall-pairs 429300, :prim-comm 1200000/57509, :time-func 0.404, :time-cpu-pairs 454755, :total-pairs 193}}]"
      ]
     },
     "execution_count": 6,
     "metadata": {},
     "output_type": "execute_result"
    }
   ],
   "source": [
    "(run-and-save-experiments output-dir base-classifier experiments\n",
    "                          :beaker-output experiment-output\n",
    "                          :thread-count 1)"
   ]
  },
  {
   "cell_type": "markdown",
   "metadata": {},
   "source": [
    "## Experiments Summary"
   ]
  },
  {
   "cell_type": "code",
   "execution_count": 7,
   "metadata": {},
   "outputs": [
    {
     "data": {
      "application/vnd.jupyter.widget-view+json": {
       "model_id": "4e063f2d-5a9b-41e5-a7fa-1fccbfe6f830",
       "version_major": 2,
       "version_minor": 0
      },
      "method": "display_data"
     },
     "metadata": {},
     "output_type": "display_data"
    }
   ],
   "source": [
    "(def experiments-summary\n",
    "    (load-experiment output-dir :summary))\n",
    "\n",
    "(experiments-summary-table experiments-summary)"
   ]
  },
  {
   "cell_type": "markdown",
   "metadata": {},
   "source": [
    "## Accuracy and Transmission Over Time "
   ]
  },
  {
   "cell_type": "code",
   "execution_count": 8,
   "metadata": {},
   "outputs": [
    {
     "data": {
      "text/plain": [
       "#'beaker_clojure_shell_eaf5d33d-f855-4143-8777-6f984177b053/partition-size"
      ]
     },
     "execution_count": 8,
     "metadata": {},
     "output_type": "execute_result"
    }
   ],
   "source": [
    "(def performance-measure [:skip-1000 :accuracy])\n",
    "(def partition-size 100)"
   ]
  },
  {
   "cell_type": "markdown",
   "metadata": {},
   "source": [
    "### Maximum Confidence Aggregation"
   ]
  },
  {
   "cell_type": "code",
   "execution_count": 9,
   "metadata": {},
   "outputs": [
    {
     "data": {
      "text/plain": [
       "#'beaker_clojure_shell_eaf5d33d-f855-4143-8777-6f984177b053/max-conf-experiments"
      ]
     },
     "execution_count": 9,
     "metadata": {},
     "output_type": "execute_result"
    }
   ],
   "source": [
    "(def max-conf-experiments (load-experiment-pair output-dir experiments-summary performance-measure :max-conf))"
   ]
  },
  {
   "cell_type": "code",
   "execution_count": 10,
   "metadata": {},
   "outputs": [
    {
     "data": {
      "application/vnd.jupyter.widget-view+json": {
       "model_id": "ae1fddef-f758-4c37-b99c-01a665648156",
       "version_major": 2,
       "version_minor": 0
      },
      "method": "display_data"
     },
     "metadata": {},
     "output_type": "display_data"
    },
    {
     "data": {
      "text/plain": [
       "null"
      ]
     },
     "execution_count": 10,
     "metadata": {},
     "output_type": "execute_result"
    }
   ],
   "source": [
    "(let [experiments max-conf-experiments\n",
    "      result-count (count (:results (:mtdm experiments)))]\n",
    "    (.display (experiment-timeline (:mtdm experiments)\n",
    "                                   (dissoc experiments :mtdm)\n",
    "                                   :partition-size partition-size\n",
    "                                   :x-bounds [0 result-count]\n",
    "                                   :y-bounds-acc [0 1.2]\n",
    "                                   :y-bounds-data [0 1.5]\n",
    "                                    :y-bounds-agree [0 300]\n",
    "                                   :event-rows 6)))"
   ]
  },
  {
   "cell_type": "markdown",
   "metadata": {},
   "source": [
    "### Simple Voting Aggregation"
   ]
  },
  {
   "cell_type": "code",
   "execution_count": null,
   "metadata": {},
   "outputs": [],
   "source": [
    "(def voting-experiments (load-experiment-pair output-dir experiments-summary performance-measure :simple-voting))"
   ]
  },
  {
   "cell_type": "code",
   "execution_count": null,
   "metadata": {},
   "outputs": [],
   "source": [
    "(let [experiments voting-experiments\n",
    "      result-count (count (:results (:mtdm experiments)))]\n",
    "    (.display (experiment-timeline (:mtdm experiments)\n",
    "                                   (dissoc experiments :mtdm)\n",
    "                                   :partition-size partition-size\n",
    "                                   :x-bounds [0 result-count]\n",
    "                                   :y-bounds-acc [0 1.5]\n",
    "                                   :y-bounds-data [0 1.5]\n",
    "                                   :y-bounds-agree [0 300]\n",
    "                                   :event-rows 6)))"
   ]
  },
  {
   "cell_type": "markdown",
   "metadata": {},
   "source": [
    "### Stacked Aggregation"
   ]
  },
  {
   "cell_type": "code",
   "execution_count": null,
   "metadata": {},
   "outputs": [],
   "source": [
    "(def stacked-experiments (load-experiment-pair output-dir experiments-summary performance-measure :stacked))"
   ]
  },
  {
   "cell_type": "code",
   "execution_count": null,
   "metadata": {},
   "outputs": [],
   "source": [
    "(let [experiments stacked-experiments\n",
    "      result-count (count (:results (:mtdm experiments)))]\n",
    "    (.display (experiment-timeline (:mtdm experiments)\n",
    "                                   (dissoc experiments :mtdm)\n",
    "                                   :partition-size partition-size\n",
    "                                   :x-bounds [0 result-count]\n",
    "                                   :y-bounds-acc [0 1.5]\n",
    "                                   :y-bounds-data [0 0.7]\n",
    "                                   :y-bounds-agree [0 300]\n",
    "                                   :event-rows 6)))"
   ]
  },
  {
   "cell_type": "markdown",
   "metadata": {},
   "source": [
    "## Timing Evaluation"
   ]
  },
  {
   "cell_type": "code",
   "execution_count": null,
   "metadata": {},
   "outputs": [],
   "source": [
    "(def timing-evaluation (get-timing-evaluation output-dir\n",
    "                                              (distinct (map :label experiments-summary)) ;; Drop repeated experiment labels\n",
    "                                              1000))"
   ]
  },
  {
   "cell_type": "code",
   "execution_count": null,
   "metadata": {},
   "outputs": [],
   "source": [
    "(save-data (str output-dir \"/:timing-summary.edn\") timing-evaluation)"
   ]
  },
  {
   "cell_type": "code",
   "execution_count": null,
   "metadata": {},
   "outputs": [],
   "source": [
    "(timing-table timing-evaluation)"
   ]
  }
 ],
 "metadata": {
  "kernelspec": {
   "display_name": "Clojure",
   "language": "clojure",
   "name": "clojure"
  },
  "language_info": {
   "codemirror_mode": "Clojure",
   "file_extension": ".clj",
   "mimetype": "text/x-clojure",
   "name": "Clojure",
   "nbconverter_exporter": "",
   "version": "1.9.0"
  },
  "toc": {
   "base_numbering": 1,
   "nav_menu": {},
   "number_sections": false,
   "sideBar": false,
   "skip_h1_title": false,
   "title_cell": "Table of Contents",
   "title_sidebar": "Contents",
   "toc_cell": false,
   "toc_position": {},
   "toc_section_display": false,
   "toc_window_display": false
  }
 },
 "nbformat": 4,
 "nbformat_minor": 2
}
